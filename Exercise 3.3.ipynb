{
 "cells": [
  {
   "cell_type": "code",
   "execution_count": 2,
   "metadata": {},
   "outputs": [],
   "source": [
    "import sympy as smp\n",
    "x, y = smp.symbols('x y')"
   ]
  },
  {
   "cell_type": "markdown",
   "metadata": {},
   "source": [
    "106. $$f(x)=x^7+10$$"
   ]
  },
  {
   "cell_type": "code",
   "execution_count": 3,
   "metadata": {},
   "outputs": [
    {
     "data": {
      "text/latex": [
       "$\\displaystyle \\frac{d}{d x} \\left(x^{7} + 10\\right)$"
      ],
      "text/plain": [
       "Derivative(x**7 + 10, x)"
      ]
     },
     "execution_count": 3,
     "metadata": {},
     "output_type": "execute_result"
    }
   ],
   "source": [
    "smp.Derivative(x**7+10)"
   ]
  },
  {
   "cell_type": "code",
   "execution_count": 4,
   "metadata": {},
   "outputs": [
    {
     "data": {
      "text/latex": [
       "$\\displaystyle 7 x^{6}$"
      ],
      "text/plain": [
       "7*x**6"
      ]
     },
     "execution_count": 4,
     "metadata": {},
     "output_type": "execute_result"
    }
   ],
   "source": [
    "smp.Derivative(x**7+10).doit()"
   ]
  },
  {
   "cell_type": "markdown",
   "metadata": {},
   "source": [
    "107. $$f(x)=5x^3-x+1$$"
   ]
  },
  {
   "cell_type": "code",
   "execution_count": 5,
   "metadata": {},
   "outputs": [
    {
     "data": {
      "text/latex": [
       "$\\displaystyle \\frac{d}{d x} \\left(5 x^{3} - x + 1\\right)$"
      ],
      "text/plain": [
       "Derivative(5*x**3 - x + 1, x)"
      ]
     },
     "execution_count": 5,
     "metadata": {},
     "output_type": "execute_result"
    }
   ],
   "source": [
    "smp.Derivative(5*x**3-x+1)"
   ]
  },
  {
   "cell_type": "code",
   "execution_count": 6,
   "metadata": {},
   "outputs": [
    {
     "data": {
      "text/latex": [
       "$\\displaystyle 15 x^{2} - 1$"
      ],
      "text/plain": [
       "15*x**2 - 1"
      ]
     },
     "execution_count": 6,
     "metadata": {},
     "output_type": "execute_result"
    }
   ],
   "source": [
    "smp.Derivative(5*x**3-x+1).doit()"
   ]
  },
  {
   "cell_type": "markdown",
   "metadata": {},
   "source": [
    "108. $$f(x)=4x^2-7x$$"
   ]
  },
  {
   "cell_type": "code",
   "execution_count": 7,
   "metadata": {},
   "outputs": [
    {
     "data": {
      "text/latex": [
       "$\\displaystyle \\frac{d}{d x} \\left(4 x^{2} - 7 x\\right)$"
      ],
      "text/plain": [
       "Derivative(4*x**2 - 7*x, x)"
      ]
     },
     "execution_count": 7,
     "metadata": {},
     "output_type": "execute_result"
    }
   ],
   "source": [
    "smp.Derivative(4*x**2-7*x)"
   ]
  },
  {
   "cell_type": "code",
   "execution_count": 8,
   "metadata": {},
   "outputs": [
    {
     "data": {
      "text/latex": [
       "$\\displaystyle 8 x - 7$"
      ],
      "text/plain": [
       "8*x - 7"
      ]
     },
     "execution_count": 8,
     "metadata": {},
     "output_type": "execute_result"
    }
   ],
   "source": [
    "smp.Derivative(4*x**2-7*x).doit()"
   ]
  },
  {
   "cell_type": "markdown",
   "metadata": {},
   "source": [
    "109. $$f(x)=8x^4+9x^2-1$$"
   ]
  },
  {
   "cell_type": "code",
   "execution_count": 11,
   "metadata": {},
   "outputs": [
    {
     "data": {
      "text/latex": [
       "$\\displaystyle \\frac{d}{d x} \\left(8 x^{4} + 9 x^{2} - 1\\right)$"
      ],
      "text/plain": [
       "Derivative(8*x**4 + 9*x**2 - 1, x)"
      ]
     },
     "execution_count": 11,
     "metadata": {},
     "output_type": "execute_result"
    }
   ],
   "source": [
    "smp.Derivative(8*x**4+9*x**2-1)"
   ]
  },
  {
   "cell_type": "code",
   "execution_count": 12,
   "metadata": {},
   "outputs": [
    {
     "data": {
      "text/latex": [
       "$\\displaystyle 32 x^{3} + 18 x$"
      ],
      "text/plain": [
       "32*x**3 + 18*x"
      ]
     },
     "execution_count": 12,
     "metadata": {},
     "output_type": "execute_result"
    }
   ],
   "source": [
    "smp.Derivative(8*x**4+9*x**2-1).doit()"
   ]
  },
  {
   "cell_type": "markdown",
   "metadata": {},
   "source": [
    "110. $$f(x)=x^4+\\frac{2}{x}$$"
   ]
  },
  {
   "cell_type": "code",
   "execution_count": 9,
   "metadata": {},
   "outputs": [
    {
     "data": {
      "text/latex": [
       "$\\displaystyle \\frac{d}{d x} \\left(x^{4} + \\frac{2}{x}\\right)$"
      ],
      "text/plain": [
       "Derivative(x**4 + 2/x, x)"
      ]
     },
     "execution_count": 9,
     "metadata": {},
     "output_type": "execute_result"
    }
   ],
   "source": [
    "smp.Derivative(x**4+2/x)"
   ]
  },
  {
   "cell_type": "code",
   "execution_count": 10,
   "metadata": {},
   "outputs": [
    {
     "data": {
      "text/latex": [
       "$\\displaystyle 4 x^{3} - \\frac{2}{x^{2}}$"
      ],
      "text/plain": [
       "4*x**3 - 2/x**2"
      ]
     },
     "execution_count": 10,
     "metadata": {},
     "output_type": "execute_result"
    }
   ],
   "source": [
    "smp.Derivative(x**4+2/x).doit()"
   ]
  },
  {
   "cell_type": "markdown",
   "metadata": {},
   "source": [
    "111. $$f(x)=3x(18x^4+\\frac{13}{x+1})$$"
   ]
  },
  {
   "cell_type": "code",
   "execution_count": 13,
   "metadata": {},
   "outputs": [
    {
     "data": {
      "text/latex": [
       "$\\displaystyle \\frac{d}{d x} 3 x \\left(18 x^{4} + \\frac{13}{x + 1}\\right)$"
      ],
      "text/plain": [
       "Derivative(3*x*(18*x**4 + 13/(x + 1)), x)"
      ]
     },
     "execution_count": 13,
     "metadata": {},
     "output_type": "execute_result"
    }
   ],
   "source": [
    "smp.Derivative(3*x*(18*x**4+13/(x+1)))"
   ]
  },
  {
   "cell_type": "code",
   "execution_count": 14,
   "metadata": {},
   "outputs": [
    {
     "data": {
      "text/latex": [
       "$\\displaystyle 54 x^{4} + 3 x \\left(72 x^{3} - \\frac{13}{\\left(x + 1\\right)^{2}}\\right) + \\frac{39}{x + 1}$"
      ],
      "text/plain": [
       "54*x**4 + 3*x*(72*x**3 - 13/(x + 1)**2) + 39/(x + 1)"
      ]
     },
     "execution_count": 14,
     "metadata": {},
     "output_type": "execute_result"
    }
   ],
   "source": [
    "smp.Derivative(3*x*(18*x**4+13/(x+1))).doit()"
   ]
  },
  {
   "cell_type": "markdown",
   "metadata": {},
   "source": [
    "112. $$f(x)=(x+2)(2x^2-3)$$"
   ]
  },
  {
   "cell_type": "code",
   "execution_count": 15,
   "metadata": {},
   "outputs": [
    {
     "data": {
      "text/latex": [
       "$\\displaystyle \\frac{d}{d x} \\left(x + 2\\right) \\left(2 x^{2} - 3\\right)$"
      ],
      "text/plain": [
       "Derivative((x + 2)*(2*x**2 - 3), x)"
      ]
     },
     "execution_count": 15,
     "metadata": {},
     "output_type": "execute_result"
    }
   ],
   "source": [
    "smp.Derivative((x+2)*(2*x**2-3))"
   ]
  },
  {
   "cell_type": "code",
   "execution_count": 16,
   "metadata": {},
   "outputs": [
    {
     "data": {
      "text/latex": [
       "$\\displaystyle 2 x^{2} + 4 x \\left(x + 2\\right) - 3$"
      ],
      "text/plain": [
       "2*x**2 + 4*x*(x + 2) - 3"
      ]
     },
     "execution_count": 16,
     "metadata": {},
     "output_type": "execute_result"
    }
   ],
   "source": [
    "smp.Derivative((x+2)*(2*x**2-3)).doit()"
   ]
  },
  {
   "cell_type": "markdown",
   "metadata": {},
   "source": [
    "113. $$f(x)=x^2(\\frac{2}{x^2}+\\frac{5}{x^3})$$"
   ]
  },
  {
   "cell_type": "code",
   "execution_count": 17,
   "metadata": {},
   "outputs": [
    {
     "data": {
      "text/latex": [
       "$\\displaystyle \\frac{d}{d x} x^{2} \\cdot \\left(\\frac{2}{x^{2}} + \\frac{5}{x^{3}}\\right)$"
      ],
      "text/plain": [
       "Derivative(x**2*(2/x**2 + 5/x**3), x)"
      ]
     },
     "execution_count": 17,
     "metadata": {},
     "output_type": "execute_result"
    }
   ],
   "source": [
    "smp.Derivative(x**2*(2/x**2+5/x**3))"
   ]
  },
  {
   "cell_type": "code",
   "execution_count": 18,
   "metadata": {},
   "outputs": [
    {
     "data": {
      "text/latex": [
       "$\\displaystyle x^{2} \\left(- \\frac{4}{x^{3}} - \\frac{15}{x^{4}}\\right) + 2 x \\left(\\frac{2}{x^{2}} + \\frac{5}{x^{3}}\\right)$"
      ],
      "text/plain": [
       "x**2*(-4/x**3 - 15/x**4) + 2*x*(2/x**2 + 5/x**3)"
      ]
     },
     "execution_count": 18,
     "metadata": {},
     "output_type": "execute_result"
    }
   ],
   "source": [
    "smp.Derivative(x**2*(2/x**2+5/x**3)).doit()"
   ]
  },
  {
   "cell_type": "markdown",
   "metadata": {},
   "source": [
    "114. $$f(x)=\\frac{x^3+2x^2-4}{3}$$"
   ]
  },
  {
   "cell_type": "code",
   "execution_count": 19,
   "metadata": {},
   "outputs": [
    {
     "data": {
      "text/latex": [
       "$\\displaystyle \\frac{d}{d x} \\left(\\frac{x^{3}}{3} + \\frac{2 x^{2}}{3} - \\frac{4}{3}\\right)$"
      ],
      "text/plain": [
       "Derivative(x**3/3 + 2*x**2/3 - 4/3, x)"
      ]
     },
     "execution_count": 19,
     "metadata": {},
     "output_type": "execute_result"
    }
   ],
   "source": [
    "smp.Derivative((x**3+2*x**2-4)/3)"
   ]
  },
  {
   "cell_type": "code",
   "execution_count": 20,
   "metadata": {},
   "outputs": [
    {
     "data": {
      "text/latex": [
       "$\\displaystyle x^{2} + \\frac{4 x}{3}$"
      ],
      "text/plain": [
       "x**2 + 4*x/3"
      ]
     },
     "execution_count": 20,
     "metadata": {},
     "output_type": "execute_result"
    }
   ],
   "source": [
    "smp.Derivative((x**3+2*x**2-4)/3).doit()"
   ]
  },
  {
   "cell_type": "markdown",
   "metadata": {},
   "source": [
    "115. $$f(x)=\\frac{4x^3-2x+1}{x^2}$$"
   ]
  },
  {
   "cell_type": "code",
   "execution_count": 22,
   "metadata": {},
   "outputs": [
    {
     "data": {
      "text/latex": [
       "$\\displaystyle \\frac{d}{d x} \\frac{4 x^{3} - 2 x + 1}{x^{2}}$"
      ],
      "text/plain": [
       "Derivative((4*x**3 - 2*x + 1)/x**2, x)"
      ]
     },
     "execution_count": 22,
     "metadata": {},
     "output_type": "execute_result"
    }
   ],
   "source": [
    "smp.Derivative((4*x**3-2*x+1)/x**2)"
   ]
  },
  {
   "cell_type": "code",
   "execution_count": 23,
   "metadata": {},
   "outputs": [
    {
     "data": {
      "text/latex": [
       "$\\displaystyle \\frac{12 x^{2} - 2}{x^{2}} - \\frac{2 \\cdot \\left(4 x^{3} - 2 x + 1\\right)}{x^{3}}$"
      ],
      "text/plain": [
       "(12*x**2 - 2)/x**2 - 2*(4*x**3 - 2*x + 1)/x**3"
      ]
     },
     "execution_count": 23,
     "metadata": {},
     "output_type": "execute_result"
    }
   ],
   "source": [
    "smp.Derivative((4*x**3-2*x+1)/x**2).doit()"
   ]
  },
  {
   "cell_type": "markdown",
   "metadata": {},
   "source": [
    "116. $$f(x)=\\frac{x^2+4}{x^2-4}$$"
   ]
  },
  {
   "cell_type": "code",
   "execution_count": 24,
   "metadata": {},
   "outputs": [
    {
     "data": {
      "text/latex": [
       "$\\displaystyle \\frac{d}{d x} \\frac{x^{2} + 4}{x^{2} - 4}$"
      ],
      "text/plain": [
       "Derivative((x**2 + 4)/(x**2 - 4), x)"
      ]
     },
     "execution_count": 24,
     "metadata": {},
     "output_type": "execute_result"
    }
   ],
   "source": [
    "smp.Derivative((x**2+4)/(x**2-4))"
   ]
  },
  {
   "cell_type": "code",
   "execution_count": 25,
   "metadata": {},
   "outputs": [
    {
     "data": {
      "text/latex": [
       "$\\displaystyle \\frac{2 x}{x^{2} - 4} - \\frac{2 x \\left(x^{2} + 4\\right)}{\\left(x^{2} - 4\\right)^{2}}$"
      ],
      "text/plain": [
       "2*x/(x**2 - 4) - 2*x*(x**2 + 4)/(x**2 - 4)**2"
      ]
     },
     "execution_count": 25,
     "metadata": {},
     "output_type": "execute_result"
    }
   ],
   "source": [
    "smp.Derivative((x**2+4)/(x**2-4)).doit()"
   ]
  },
  {
   "cell_type": "markdown",
   "metadata": {},
   "source": [
    "117. $$f(x)=\\frac{x+9}{x^2-7x+1}$$"
   ]
  },
  {
   "cell_type": "code",
   "execution_count": 27,
   "metadata": {},
   "outputs": [
    {
     "data": {
      "text/latex": [
       "$\\displaystyle \\frac{d}{d x} \\frac{x + 9}{x^{2} - 7 x + 1}$"
      ],
      "text/plain": [
       "Derivative((x + 9)/(x**2 - 7*x + 1), x)"
      ]
     },
     "execution_count": 27,
     "metadata": {},
     "output_type": "execute_result"
    }
   ],
   "source": [
    "smp.Derivative((x+9)/(x**2-7*x+1))"
   ]
  },
  {
   "cell_type": "code",
   "execution_count": 28,
   "metadata": {},
   "outputs": [
    {
     "data": {
      "text/latex": [
       "$\\displaystyle \\frac{\\left(7 - 2 x\\right) \\left(x + 9\\right)}{\\left(x^{2} - 7 x + 1\\right)^{2}} + \\frac{1}{x^{2} - 7 x + 1}$"
      ],
      "text/plain": [
       "(7 - 2*x)*(x + 9)/(x**2 - 7*x + 1)**2 + 1/(x**2 - 7*x + 1)"
      ]
     },
     "execution_count": 28,
     "metadata": {},
     "output_type": "execute_result"
    }
   ],
   "source": [
    "smp.Derivative((x+9)/(x**2-7*x+1)).doit()"
   ]
  }
 ],
 "metadata": {
  "kernelspec": {
   "display_name": "Python 3.7.15 ('base')",
   "language": "python",
   "name": "python3"
  },
  "language_info": {
   "codemirror_mode": {
    "name": "ipython",
    "version": 3
   },
   "file_extension": ".py",
   "mimetype": "text/x-python",
   "name": "python",
   "nbconvert_exporter": "python",
   "pygments_lexer": "ipython3",
   "version": "3.7.15"
  },
  "orig_nbformat": 4,
  "vscode": {
   "interpreter": {
    "hash": "99c6471ef572c82e4c7354c013be66344d1564b5768f25fd140d1b70dfc7ab53"
   }
  }
 },
 "nbformat": 4,
 "nbformat_minor": 2
}
