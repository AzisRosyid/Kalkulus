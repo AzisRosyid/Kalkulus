{
 "cells": [
  {
   "cell_type": "code",
   "execution_count": 28,
   "metadata": {},
   "outputs": [],
   "source": [
    "import sympy as smp\n",
    "x, y = smp.symbols('x y')"
   ]
  },
  {
   "cell_type": "markdown",
   "metadata": {},
   "source": [
    "<h2>Limit</h2>"
   ]
  },
  {
   "cell_type": "markdown",
   "metadata": {},
   "source": [
    "1. $$\\lim_{x \\to 5}6x^2 - 3$$"
   ]
  },
  {
   "cell_type": "code",
   "execution_count": 36,
   "metadata": {},
   "outputs": [
    {
     "data": {
      "text/latex": [
       "$\\displaystyle \\lim_{x \\to 5^+}\\left(6 x^{2} - 3\\right)$"
      ],
      "text/plain": [
       "Limit(6*x**2 - 3, x, 5)"
      ]
     },
     "execution_count": 36,
     "metadata": {},
     "output_type": "execute_result"
    }
   ],
   "source": [
    "smp.Limit(6*x**2-3, x, 5)"
   ]
  },
  {
   "cell_type": "code",
   "execution_count": 32,
   "metadata": {},
   "outputs": [
    {
     "data": {
      "text/latex": [
       "$\\displaystyle 147$"
      ],
      "text/plain": [
       "147"
      ]
     },
     "execution_count": 32,
     "metadata": {},
     "output_type": "execute_result"
    }
   ],
   "source": [
    "smp.Limit(6*x**2-3, x, 5).doit()"
   ]
  },
  {
   "cell_type": "markdown",
   "metadata": {},
   "source": [
    "2. $$\\lim_{x\\to-\\infty}\\frac{7x^4+2x^2+9}{9x^2+3}$$"
   ]
  },
  {
   "cell_type": "code",
   "execution_count": 6,
   "metadata": {},
   "outputs": [
    {
     "data": {
      "text/latex": [
       "$\\displaystyle \\lim_{x \\to -\\infty}\\left(\\frac{7 x^{4} + 2 x^{2} + 9}{9 x^{2} + 3}\\right)$"
      ],
      "text/plain": [
       "Limit((7*x**4 + 2*x**2 + 9)/(9*x**2 + 3), x, -oo)"
      ]
     },
     "execution_count": 6,
     "metadata": {},
     "output_type": "execute_result"
    }
   ],
   "source": [
    "smp.Limit((7*x**4+2*x**2+9)/(9*x**2+3), x, -smp.oo)"
   ]
  },
  {
   "cell_type": "code",
   "execution_count": 7,
   "metadata": {},
   "outputs": [
    {
     "data": {
      "text/latex": [
       "$\\displaystyle \\infty$"
      ],
      "text/plain": [
       "oo"
      ]
     },
     "execution_count": 7,
     "metadata": {},
     "output_type": "execute_result"
    }
   ],
   "source": [
    "smp.Limit((7*x**4+2*x**2+9)/(9*x**2+3), x, -smp.oo).doit()"
   ]
  },
  {
   "cell_type": "markdown",
   "metadata": {},
   "source": [
    "3. $$\\lim_{y\\to\\pi^-}\\frac{6y^2\\sin(y)\\cos(y)+9}{2y^3-5}$$"
   ]
  },
  {
   "cell_type": "code",
   "execution_count": 38,
   "metadata": {
    "scrolled": true
   },
   "outputs": [
    {
     "data": {
      "text/latex": [
       "$\\displaystyle \\lim_{y \\to \\pi^-}\\left(\\frac{6 y^{2} \\sin{\\left(y \\right)} \\cos{\\left(y \\right)} + 9}{2 y^{3} - 5}\\right)$"
      ],
      "text/plain": [
       "Limit((6*y**2*sin(y)*cos(y) + 9)/(2*y**3 - 5), y, pi, dir='-')"
      ]
     },
     "execution_count": 38,
     "metadata": {},
     "output_type": "execute_result"
    }
   ],
   "source": [
    "smp.Limit((6*y**2*smp.sin(y)*smp.cos(y)+9)/(2*y**3-5), y, smp.pi, dir='-')"
   ]
  },
  {
   "cell_type": "code",
   "execution_count": 39,
   "metadata": {},
   "outputs": [
    {
     "data": {
      "text/latex": [
       "$\\displaystyle \\frac{9}{-5 + 2 \\pi^{3}}$"
      ],
      "text/plain": [
       "9/(-5 + 2*pi**3)"
      ]
     },
     "execution_count": 39,
     "metadata": {},
     "output_type": "execute_result"
    }
   ],
   "source": [
    "smp.Limit((6*y**2*smp.sin(y)*smp.cos(y)+9)/(2*y**3-5), y, smp.pi, dir='-').doit()"
   ]
  },
  {
   "cell_type": "markdown",
   "metadata": {},
   "source": [
    "<h2>Derivative</h2>"
   ]
  },
  {
   "cell_type": "markdown",
   "metadata": {},
   "source": [
    "1. $$y = \\sec(x)\\csc(x)$$"
   ]
  },
  {
   "cell_type": "code",
   "execution_count": 43,
   "metadata": {
    "scrolled": true
   },
   "outputs": [
    {
     "data": {
      "text/latex": [
       "$\\displaystyle \\frac{d}{d x} \\csc{\\left(x \\right)} \\sec{\\left(x \\right)}$"
      ],
      "text/plain": [
       "Derivative(csc(x)*sec(x), x)"
      ]
     },
     "execution_count": 43,
     "metadata": {},
     "output_type": "execute_result"
    }
   ],
   "source": [
    "smp.Derivative(smp.sec(x)*smp.csc(x), x)"
   ]
  },
  {
   "cell_type": "code",
   "execution_count": 41,
   "metadata": {},
   "outputs": [
    {
     "data": {
      "text/latex": [
       "$\\displaystyle \\tan{\\left(x \\right)} \\csc{\\left(x \\right)} \\sec{\\left(x \\right)} - \\cot{\\left(x \\right)} \\csc{\\left(x \\right)} \\sec{\\left(x \\right)}$"
      ],
      "text/plain": [
       "tan(x)*csc(x)*sec(x) - cot(x)*csc(x)*sec(x)"
      ]
     },
     "execution_count": 41,
     "metadata": {},
     "output_type": "execute_result"
    }
   ],
   "source": [
    "smp.Derivative(smp.sec(x)*smp.csc(x), x).doit()"
   ]
  },
  {
   "cell_type": "markdown",
   "metadata": {},
   "source": [
    "2. $$y = 9x^2+e^2x+11$$"
   ]
  },
  {
   "cell_type": "code",
   "execution_count": 45,
   "metadata": {},
   "outputs": [
    {
     "data": {
      "text/latex": [
       "$\\displaystyle \\frac{d}{d x} \\left(9 x^{2} + x e^{2} + 11\\right)$"
      ],
      "text/plain": [
       "Derivative(9*x**2 + x*exp(2) + 11, x)"
      ]
     },
     "execution_count": 45,
     "metadata": {},
     "output_type": "execute_result"
    }
   ],
   "source": [
    "smp.Derivative(9*x**2+smp.exp(2)*x+11, x)"
   ]
  },
  {
   "cell_type": "code",
   "execution_count": 46,
   "metadata": {},
   "outputs": [
    {
     "data": {
      "text/latex": [
       "$\\displaystyle 18 x + e^{2}$"
      ],
      "text/plain": [
       "18*x + exp(2)"
      ]
     },
     "execution_count": 46,
     "metadata": {},
     "output_type": "execute_result"
    }
   ],
   "source": [
    "smp.Derivative(9*x**2+smp.exp(2)*x+11, x).doit()"
   ]
  },
  {
   "cell_type": "markdown",
   "metadata": {},
   "source": [
    "<h2>Integral</h2>"
   ]
  },
  {
   "cell_type": "markdown",
   "metadata": {},
   "source": [
    "1. $$\\int \\frac{\\sqrt{x^3+x^4}-\\cos^2x}{6x + 9} dx$$"
   ]
  },
  {
   "cell_type": "code",
   "execution_count": 15,
   "metadata": {},
   "outputs": [
    {
     "data": {
      "text/latex": [
       "$\\displaystyle \\int \\frac{\\sqrt{x^{4} + x^{3}} - \\cos^{2}{\\left(x \\right)}}{6 x + 9}\\, dx$"
      ],
      "text/plain": [
       "Integral((sqrt(x**4 + x**3) - cos(x)**2)/(6*x + 9), x)"
      ]
     },
     "execution_count": 15,
     "metadata": {},
     "output_type": "execute_result"
    }
   ],
   "source": [
    "smp.Integral((smp.sqrt(x**3+x**4)-smp.cos(x)**2)/(6*x+9), x)"
   ]
  },
  {
   "cell_type": "code",
   "execution_count": 19,
   "metadata": {},
   "outputs": [
    {
     "data": {
      "text/latex": [
       "$\\displaystyle - \\frac{\\int \\left(- \\frac{\\sqrt{x^{4} + x^{3}}}{2 x + 3}\\right)\\, dx + \\int \\frac{\\cos^{2}{\\left(x \\right)}}{2 x + 3}\\, dx}{3}$"
      ],
      "text/plain": [
       "-(Integral(-sqrt(x**4 + x**3)/(2*x + 3), x) + Integral(cos(x)**2/(2*x + 3), x))/3"
      ]
     },
     "execution_count": 19,
     "metadata": {},
     "output_type": "execute_result"
    }
   ],
   "source": [
    "smp.Integral((smp.sqrt(x**3+x**4)-smp.cos(x)**2)/(6*x+9)).doit()"
   ]
  },
  {
   "cell_type": "markdown",
   "metadata": {},
   "source": [
    "2. $$\\int_{1}^e(9x^2+ex)(6x+3) dx$$"
   ]
  },
  {
   "cell_type": "code",
   "execution_count": 47,
   "metadata": {},
   "outputs": [
    {
     "data": {
      "text/latex": [
       "$\\displaystyle \\int\\limits_{1}^{e} \\left(6 x + 3\\right) \\left(9 x^{2} + e x\\right)\\, dx$"
      ],
      "text/plain": [
       "Integral((6*x + 3)*(9*x**2 + E*x), (x, 1, E))"
      ]
     },
     "execution_count": 47,
     "metadata": {},
     "output_type": "execute_result"
    }
   ],
   "source": [
    "smp.Integral((9*x**2+smp.exp(1)*x)*(6*x+3), (x, 1, smp.exp(1)))"
   ]
  },
  {
   "cell_type": "code",
   "execution_count": 52,
   "metadata": {},
   "outputs": [
    {
     "data": {
      "text/latex": [
       "$\\displaystyle - \\frac{45}{2} - \\frac{7 e}{2} + \\frac{3 e^{3}}{2} + \\left(2 e + 9\\right) e^{3} + \\frac{27 e^{4}}{2}$"
      ],
      "text/plain": [
       "-45/2 - 7*E/2 + 3*exp(3)/2 + (2*E + 9)*exp(3) + 27*exp(4)/2"
      ]
     },
     "execution_count": 52,
     "metadata": {},
     "output_type": "execute_result"
    }
   ],
   "source": [
    "smp.Integral((9*x**2+smp.exp(1)*x)*(6*x+3), (x, 1, smp.exp(1))).doit()"
   ]
  },
  {
   "cell_type": "markdown",
   "metadata": {},
   "source": [
    "<h4>Find the equiation of the planes in 3-space that pass through the following points :</h4>\n",
    "\n",
    "$$\n",
    "a.\\quad(1, 1, -3),\\,(1, -1, 1),\\,(0, -1, 2)\\\\ A=\\vec{PQ}=(1-1,\\,-1-1,\\,1+3)=(0,\\,-1,\\,4)\\\\ \n",
    "$$"
   ]
  },
  {
   "cell_type": "markdown",
   "metadata": {},
   "source": [
    "$$"
   ]
  },
  {
   "cell_type": "code",
   "execution_count": null,
   "metadata": {},
   "outputs": [],
   "source": [
    "import contextlib\n",
    "\n"
   ]
  }
 ],
 "metadata": {
  "kernelspec": {
   "display_name": "Python 3 (ipykernel)",
   "language": "python",
   "name": "python3"
  },
  "language_info": {
   "codemirror_mode": {
    "name": "ipython",
    "version": 3
   },
   "file_extension": ".py",
   "mimetype": "text/x-python",
   "name": "python",
   "nbconvert_exporter": "python",
   "pygments_lexer": "ipython3",
   "version": "3.7.15"
  },
  "vscode": {
   "interpreter": {
    "hash": "99c6471ef572c82e4c7354c013be66344d1564b5768f25fd140d1b70dfc7ab53"
   }
  }
 },
 "nbformat": 4,
 "nbformat_minor": 2
}
