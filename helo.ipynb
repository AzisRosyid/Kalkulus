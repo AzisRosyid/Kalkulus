{
 "cells": [
  {
   "cell_type": "code",
   "execution_count": null,
   "metadata": {},
   "outputs": [],
   "source": [
    "import numpy as np"
   ]
  }
 ],
 "metadata": {
  "kernelspec": {
   "display_name": "Python 3.7.15 ('base')",
   "language": "python",
   "name": "python3"
  },
  "language_info": {
   "name": "python",
   "version": "3.7.15"
  },
  "orig_nbformat": 4,
  "vscode": {
   "interpreter": {
    "hash": "99c6471ef572c82e4c7354c013be66344d1564b5768f25fd140d1b70dfc7ab53"
   }
  }
 },
 "nbformat": 4,
 "nbformat_minor": 2
}
